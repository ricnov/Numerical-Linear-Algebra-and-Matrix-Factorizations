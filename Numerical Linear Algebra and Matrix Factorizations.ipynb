{
 "cells": [
  {
   "cell_type": "markdown",
   "metadata": {},
   "source": [
    "# Diagonally Dominant Tridiagonal Matrices"
   ]
  },
  {
   "cell_type": "markdown",
   "metadata": {},
   "source": [
    "To find the $D^2$-spline g we have to solve the triangular system:\n",
    "$$\\left[\\begin{array}{ccccc}\n",
    "4 & 1 & & & \\\\\n",
    "1 & 4 & 1 & & \\\\\n",
    "& \\ddots & \\ddots & \\ddots & \\\\\n",
    "& & 1 & 4 & 1 \\\\\n",
    "& & & 1 & 4\n",
    "\\end{array}\\right]\\left[\\begin{array}{c}\n",
    "\\mu_{2} \\\\\n",
    "\\mu_{3} \\\\\n",
    "\\vdots \\\\\n",
    "\\mu_{n-1} \\\\\n",
    "\\mu_{n}\n",
    "\\end{array}\\right]=\\frac{6}{h^{2}}\\left[\\begin{array}{c}\n",
    "\\delta^{2} y_{2}-\\mu_{1} \\\\\n",
    "\\delta^{2} y_{3} \\\\\n",
    "\\vdots \\\\\n",
    "\\delta^{2} y_{n-1} \\\\\n",
    "\\delta^{2} y_{n}-\\mu_{n+1}\n",
    "\\end{array}\\right], \\delta^{2} y_{i}:=y_{i+1}-2 y_{i}+y_{i-1} $$\n",
    "\n",
    "Consider solving a general tridiagonal linear system $Ax = b$ where A = tridiag($a_i, d_i, c_i$) ∈ $\\mathbb{C}^{n×n}$. Instead of using Gaussian elimination directly, we can construct two matrices L and U such that $A = LU$. Since $Ax = LUx = b$ we can find x by solving two systems $Lz = b$ and $U x = z$. Moreover L and U are both triangular and bidiagonal, and if in addition they are nonsingular the two systems can be solved easily without using elimination. In our case we write the product $A = LU$ in the form:"
   ]
  },
  {
   "cell_type": "markdown",
   "metadata": {},
   "source": [
    "$$\\left[\\begin{array}{cccc}\n",
    "d_{1} & c_{1} & & \\\\\n",
    "a_{1} & d_{2} & c_{2} & & \\\\\n",
    "& \\ddots & \\ddots & \\ddots & \\\\\n",
    "& & a_{n-2} & d_{n-1} & c_{n-1} \\\\\n",
    "& & & a_{n-1} & d_{n}\n",
    "\\end{array}\\right]=\\left[\\begin{array}{ccc}\n",
    "1 & & & \\\\\n",
    "l_{1} & 1 & & \\\\\n",
    "& \\ddots & \\ddots & \\\\\n",
    "& & l_{n-1} & 1\n",
    "\\end{array}\\right]\\left[\\begin{array}{cccc}\n",
    "u_{1} & c_{1} & & \\\\\n",
    "& \\ddots & \\ddots & \\\\\n",
    "& & u_{n-1} & c_{n-1} \\\\\n",
    "& & & u_{n}\n",
    "\\end{array}\\right]$$"
   ]
  },
  {
   "cell_type": "markdown",
   "metadata": {},
   "source": [
    "To find L and U we first consider the case n = 3 then we have from the above system:\n",
    "\n",
    "$$\\left[\\begin{array}{lll}\n",
    "d_{1} & c_{1} & 0 \\\\\n",
    "a_{1} & d_{2} & c_{2} \\\\\n",
    "0 & a_{2} & d_{3}\n",
    "\\end{array}\\right]=\\left[\\begin{array}{ccc}\n",
    "1 & 0 & 0 \\\\\n",
    "l_{1} & 1 & 0 \\\\\n",
    "0 & l_{2} & 1\n",
    "\\end{array}\\right]\\left[\\begin{array}{ccc}\n",
    "u_{1} & c_{1} & 0 \\\\\n",
    "0 & u_{2} & c_{2} \\\\\n",
    "0 & 0 & u_{3}\n",
    "\\end{array}\\right]=\\left[\\begin{array}{ccc}\n",
    "u_{1} & c_{1} & 0 \\\\\n",
    "l_{1} u_{1} & l_{1} c_{1}+u_{2} & c_{2} \\\\\n",
    "0 & l_{2} u_{2} & l_{2} c_{2}+u_{3}\n",
    "\\end{array}\\right] $$\n",
    "\n",
    "and the systems $Lz = b$ and $Ux = z$ can be written:\n",
    "\n",
    "$$\\left[\\begin{array}{lll}\n",
    "1 & 0 & 0 \\\\\n",
    "l_{1} & 1 & 0 \\\\\n",
    "0 & l_{2} & 1\n",
    "\\end{array}\\right]\\left[\\begin{array}{l}\n",
    "z_{1} \\\\\n",
    "z_{2} \\\\\n",
    "z_{3}\n",
    "\\end{array}\\right]=\\left[\\begin{array}{l}\n",
    "b_{1} \\\\\n",
    "b_{2} \\\\\n",
    "b_{3}\n",
    "\\end{array}\\right], \\quad\\left[\\begin{array}{lll}\n",
    "u_{1} & c_{1} & 0 \\\\\n",
    "0 & u_{2} & c_{2} \\\\\n",
    "0 & 0 & u_{3}\n",
    "\\end{array}\\right]\\left[\\begin{array}{l}\n",
    "x_{1} \\\\\n",
    "x_{2} \\\\\n",
    "x_{3}\n",
    "\\end{array}\\right]=\\left[\\begin{array}{l}\n",
    "z_{1} \\\\\n",
    "z_{2} \\\\\n",
    "z_{3}\n",
    "\\end{array}\\right] $$"
   ]
  },
  {
   "cell_type": "markdown",
   "metadata": {},
   "source": [
    "Comparing elements we find: \n",
    "\n",
    "$$\\begin{array}{l}\n",
    "u_{1}=d_{1}, \\quad l_{1}=a_{1} / u_{1}, \\quad u_{2}=d_{2}-l_{1} c_{1}, \\quad l_{2}=a_{2} / u_{2}, \\quad u_{3}=d_{3}-l_{2} c_{2} \\\\\n",
    "z_{1}=b_{1}, \\quad z_{2}=b_{2}-l_{1} z_{1}, \\quad z_{3}=b_{3}-l_{2} z_{2} \\\\\n",
    "x_{3}=z_{3} / u_{3}, \\quad x_{2}=\\left(z_{2}-c_{2} x_{3}\\right) / u_{2}, \\quad x_{1}=\\left(z_{1}-c_{1} x_{2}\\right) / u_{1}\n",
    "\\end{array} $$\n",
    "\n",
    "In general, if:\n",
    "\n",
    "$$ u_{1}=d_{1}, \\quad l_{k}=a_{k} / u_{k}, \\quad u_{k+1}=d_{k+1}-l_{k} c_{k}, \\quad k=1,2, \\ldots, n-1$$\n",
    "\n",
    "then $A = LU$. If $u_1, u_2,...,u_{n−1}$ are nonzero then the above system is well defined. If in addition $u_n \\neq 0$ then we can solve $Lz = b$ and $Ux = z$ for z and x. We formulate this as two algorithms:"
   ]
  },
  {
   "cell_type": "code",
   "execution_count": 1,
   "metadata": {},
   "outputs": [],
   "source": [
    "from numpy import *\n",
    "import matplotlib.pyplot as plt\n",
    "\n",
    "\n",
    "\n",
    "def trifactor(a, d, c):\n",
    "    \"\"\"\n",
    "    Compute the entries in the LU-factorization of a tridiagonal matrix A using algorithm 1.8. \n",
    "    Returns the sequence l on the sub-diagonal of L, and the sequence u on the diagonal of U. \n",
    "    \n",
    "    a: The n-1 entries on the sub-diagonal of A\n",
    "    d: The n entries on the diagonal of A\n",
    "    c: The n-1 entries on the super-diagonal of A\n",
    "    \"\"\"\n",
    "    u, l = zeros_like(d), zeros_like(a)\n",
    "    u[0] = d[0]\n",
    "    for k in range(len(a)):\n",
    "        l[k] = a[k]/u[k]\n",
    "        u[k+1] = d[k+1] - l[k]*c[k]\n",
    "    return l, u"
   ]
  },
  {
   "cell_type": "code",
   "execution_count": 2,
   "metadata": {},
   "outputs": [],
   "source": [
    "def trisolve(l, u, c, b):\n",
    "    \"\"\"\n",
    "    Compute the solution to a system on the form A*x=b with A a tridiagonal matrix, based on the LU-factorization of A \n",
    "    as given by the function trifactor (using algorithm 1.9). \n",
    "    The input vector b will be updated with the solution x (i.e. in-place).\n",
    "    \n",
    "    l: The entries on the sub-diagonal of L in the LU-factorization of A\n",
    "    u: The entries on the diagonal of U in the LU-factorization of A\n",
    "    c: The entries on the super-diagonal of U in the LU-factorization of A (this equals the entries on the super-diagonal of A)\n",
    "    b: The right hand side\n",
    "    \"\"\"\n",
    "    n = shape(b)[0]\n",
    "    for k in range(1, n):\n",
    "        b[k] -= l[k-1]*b[k - 1]\n",
    "    b[n-1] /= u[n-1]\n",
    "    for k in range(n-2,-1,-1):\n",
    "        b[k] -= c[k]*b[k + 1]\n",
    "        b[k] /= u[k]"
   ]
  },
  {
   "cell_type": "markdown",
   "metadata": {},
   "source": [
    "Since division by zero can occur, the algorithms will not work in general, but for tridiagonal strictly diagonally dominant systems we have s a unique LU factorization. The number of arithmetic operations to compute the LU factorization of a tridiagonal matrix of order n using is 3n−3, while the number of arithmetic operations for Algorithm trisolve is r(5n−4), where r is the number of right-hand sides. This means that the complexity to solve a tridiagonal system is O(n), or\n",
    "more precisely 8n − 7 when r = 1, and this number only grows linearly with n."
   ]
  },
  {
   "cell_type": "code",
   "execution_count": null,
   "metadata": {},
   "outputs": [],
   "source": []
  }
 ],
 "metadata": {
  "kernelspec": {
   "display_name": "Python 3",
   "language": "python",
   "name": "python3"
  },
  "language_info": {
   "codemirror_mode": {
    "name": "ipython",
    "version": 3
   },
   "file_extension": ".py",
   "mimetype": "text/x-python",
   "name": "python",
   "nbconvert_exporter": "python",
   "pygments_lexer": "ipython3",
   "version": "3.7.6"
  }
 },
 "nbformat": 4,
 "nbformat_minor": 2
}
